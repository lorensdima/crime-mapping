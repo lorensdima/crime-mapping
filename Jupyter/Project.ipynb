{
 "nbformat": 4,
 "nbformat_minor": 0,
 "metadata": {
  "colab": {
   "name": "Project",
   "provenance": [],
   "collapsed_sections": []
  },
  "kernelspec": {
   "name": "python3",
   "display_name": "Python 3"
  },
  "language_info": {
   "name": "python"
  }
 },
 "cells": [
  {
   "cell_type": "code",
   "source": [
    "import pandas as pd\n",
    "import numpy as np\n",
    "from nltk.corpus import stopwords\n",
    "import warnings\n",
    "import json\n",
    "warnings.filterwarnings('ignore')"
   ],
   "metadata": {
    "id": "fjEW-3urxi-g",
    "pycharm": {
     "name": "#%%\n"
    }
   },
   "execution_count": 455,
   "outputs": []
  },
  {
   "cell_type": "code",
   "execution_count": 456,
   "outputs": [
    {
     "data": {
      "text/plain": "                                             created_at  \\\n0                              2022-07-13T14:29:17.000Z   \n1                              2022-07-13T12:10:52.000Z   \n2                              2022-07-13T11:20:38.000Z   \n3                              2022-07-12T13:18:14.000Z   \n4                              2022-07-12T11:53:06.000Z   \n...                                                 ...   \n1485  2021-09-02 12:12:11 Malay Peninsula Standard Time   \n1486  2021-09-01 14:35:45 Malay Peninsula Standard Time   \n1487  2021-09-01 12:41:19 Malay Peninsula Standard Time   \n1488  2021-09-01 12:09:47 Malay Peninsula Standard Time   \n1489  2021-09-01 11:12:43 Malay Peninsula Standard Time   \n\n                                                  tweet  \n0     PNP OIC PLTGEN Danao Jr. confirmed that two me...  \n1     This anti-illegal drug operation also led to t...  \n2     A regional level most wanted person for illega...  \n3     Three former members of a CTG in Masbate are n...  \n4     A 37-year-old drug suspect was busted in an an...  \n...                                                 ...  \n1485  ELEAZAR: 92% OF PNP PERSONNEL RECEIVED VACCINE...  \n1486  ELEAZAR: POLICEMEN CHARGED WITH MURDER BY DOJ ...  \n1487  POLICE CONDUCT MOBILE LIBRARY FOR CHILDREN IN ...  \n1488  IAS RECOMMENDATION ON POLICEMAN INVOLVED IN FA...  \n1489  ELEAZAR ORDERS PROBE ON MOTORCYCLE STUNTS IN Z...  \n\n[1490 rows x 2 columns]",
      "text/html": "<div>\n<style scoped>\n    .dataframe tbody tr th:only-of-type {\n        vertical-align: middle;\n    }\n\n    .dataframe tbody tr th {\n        vertical-align: top;\n    }\n\n    .dataframe thead th {\n        text-align: right;\n    }\n</style>\n<table border=\"1\" class=\"dataframe\">\n  <thead>\n    <tr style=\"text-align: right;\">\n      <th></th>\n      <th>created_at</th>\n      <th>tweet</th>\n    </tr>\n  </thead>\n  <tbody>\n    <tr>\n      <th>0</th>\n      <td>2022-07-13T14:29:17.000Z</td>\n      <td>PNP OIC PLTGEN Danao Jr. confirmed that two me...</td>\n    </tr>\n    <tr>\n      <th>1</th>\n      <td>2022-07-13T12:10:52.000Z</td>\n      <td>This anti-illegal drug operation also led to t...</td>\n    </tr>\n    <tr>\n      <th>2</th>\n      <td>2022-07-13T11:20:38.000Z</td>\n      <td>A regional level most wanted person for illega...</td>\n    </tr>\n    <tr>\n      <th>3</th>\n      <td>2022-07-12T13:18:14.000Z</td>\n      <td>Three former members of a CTG in Masbate are n...</td>\n    </tr>\n    <tr>\n      <th>4</th>\n      <td>2022-07-12T11:53:06.000Z</td>\n      <td>A 37-year-old drug suspect was busted in an an...</td>\n    </tr>\n    <tr>\n      <th>...</th>\n      <td>...</td>\n      <td>...</td>\n    </tr>\n    <tr>\n      <th>1485</th>\n      <td>2021-09-02 12:12:11 Malay Peninsula Standard Time</td>\n      <td>ELEAZAR: 92% OF PNP PERSONNEL RECEIVED VACCINE...</td>\n    </tr>\n    <tr>\n      <th>1486</th>\n      <td>2021-09-01 14:35:45 Malay Peninsula Standard Time</td>\n      <td>ELEAZAR: POLICEMEN CHARGED WITH MURDER BY DOJ ...</td>\n    </tr>\n    <tr>\n      <th>1487</th>\n      <td>2021-09-01 12:41:19 Malay Peninsula Standard Time</td>\n      <td>POLICE CONDUCT MOBILE LIBRARY FOR CHILDREN IN ...</td>\n    </tr>\n    <tr>\n      <th>1488</th>\n      <td>2021-09-01 12:09:47 Malay Peninsula Standard Time</td>\n      <td>IAS RECOMMENDATION ON POLICEMAN INVOLVED IN FA...</td>\n    </tr>\n    <tr>\n      <th>1489</th>\n      <td>2021-09-01 11:12:43 Malay Peninsula Standard Time</td>\n      <td>ELEAZAR ORDERS PROBE ON MOTORCYCLE STUNTS IN Z...</td>\n    </tr>\n  </tbody>\n</table>\n<p>1490 rows × 2 columns</p>\n</div>"
     },
     "execution_count": 456,
     "metadata": {},
     "output_type": "execute_result"
    }
   ],
   "source": [
    "tweet_df = pd.read_csv('Datasets/data.csv',encoding=\"ISO-8859-1\")\n",
    "t_df = pd.read_csv('Datasets/data1.csv',encoding=\"ISO-8859-1\")\n",
    "tweet_df.drop(tweet_df.columns.difference(['created_at','full_text']),axis=1, inplace=True)\n",
    "t_df.drop(t_df.columns.difference(['created_at','tweet']),axis=1, inplace=True)\n",
    "tweet_df = tweet_df.rename(columns={'full_text': 'tweet'})\n",
    "frames=[tweet_df, t_df]\n",
    "final_df = pd.concat(frames, ignore_index=True)\n",
    "final_df"
   ],
   "metadata": {
    "collapsed": false,
    "pycharm": {
     "name": "#%%\n"
    }
   }
  },
  {
   "cell_type": "code",
   "execution_count": 457,
   "outputs": [],
   "source": [
    "final_df = pd.read_csv('Datasets/type_data.csv',encoding=\"ISO-8859-1\")"
   ],
   "metadata": {
    "collapsed": false,
    "pycharm": {
     "name": "#%%\n"
    }
   }
  },
  {
   "cell_type": "code",
   "source": [
    "import re\n",
    "from nltk.tokenize import word_tokenize\n",
    "tagalog_stops = pd.read_csv(\"Datasets/tagalog_stopwords.csv\").a.to_list()\n",
    "stop_words = stopwords.words('english') + tagalog_stops\n",
    "def clean_tweets(text):\n",
    "    text = text.lower()\n",
    "    text = re.sub(r'RT @[\\w]*','',str(text))\n",
    "    text = re.sub(r'@[\\w]*','',str(text))\n",
    "    text = re.sub(r'#([a-zA-Z0-9_]{1,50})','',str(text))\n",
    "    text = re.sub(r'https?://[A-Za-z0-9./]*','',str(text))\n",
    "    text = re.sub(r'\\n','',str(text))\n",
    "    text = re.sub(r'[^\\x00-\\x7F\\x80-\\xFF\\u0100-\\u017F\\u0180-\\u024F\\u1E00-\\u1EFF]', u'', str(text))\n",
    "    text = re.sub(r'[^\\x00-\\x7f]', '', str(text))\n",
    "    text = re.sub(r'[^\\w\\s]', '', str(text))\n",
    "    text_tokens = word_tokenize(text)\n",
    "    filtered_text = [w for w in text_tokens if not w in stop_words]\n",
    "    return \" \".join(filtered_text)\n",
    "final_df['tweet'] = final_df['tweet'].apply(lambda x: clean_tweets(x))\n",
    "final_df"
   ],
   "metadata": {
    "id": "deg73Avz1mkw",
    "pycharm": {
     "name": "#%%\n"
    }
   },
   "execution_count": 458,
   "outputs": [
    {
     "data": {
      "text/plain": "                                            created_at  \\\n0                             2022-07-13T14:29:17.000Z   \n1                             2022-07-13T12:10:52.000Z   \n2                             2022-07-13T11:20:38.000Z   \n3                             2022-07-12T13:18:14.000Z   \n4                             2022-07-12T11:53:06.000Z   \n..                                                 ...   \n335  2021-09-07 11:45:49 Malay Peninsula Standard Time   \n336  2021-09-06 15:46:01 Malay Peninsula Standard Time   \n337  2021-09-06 11:49:04 Malay Peninsula Standard Time   \n338  2021-09-02 15:22:16 Malay Peninsula Standard Time   \n339  2021-09-01 14:35:45 Malay Peninsula Standard Time   \n\n                                                 tweet       type  \n0    pnp oic pltgen danao jr confirmed two members ...  terrorism  \n1    antiillegal drug operation also led seizure 25...       drug  \n2    regional level wanted person illegal drugs nab...       drug  \n3    three former members ctg masbate reintegrated ...  terrorism  \n4    37yearold drug suspect busted antiillegal drug...       drug  \n..                                                 ...        ...  \n335  2 arrested manufacture selling swab test resul...      fraud  \n336  ias findings death minor laguna antidrug opera...        NaN  \n337  eleazar hails pnpafp operation intercepted amm...  terrorism  \n338  eleazar hails arrest gun syndicate leader coho...  terrorism  \n339  eleazar policemen charged murder doj bulacan f...     murder  \n\n[340 rows x 3 columns]",
      "text/html": "<div>\n<style scoped>\n    .dataframe tbody tr th:only-of-type {\n        vertical-align: middle;\n    }\n\n    .dataframe tbody tr th {\n        vertical-align: top;\n    }\n\n    .dataframe thead th {\n        text-align: right;\n    }\n</style>\n<table border=\"1\" class=\"dataframe\">\n  <thead>\n    <tr style=\"text-align: right;\">\n      <th></th>\n      <th>created_at</th>\n      <th>tweet</th>\n      <th>type</th>\n    </tr>\n  </thead>\n  <tbody>\n    <tr>\n      <th>0</th>\n      <td>2022-07-13T14:29:17.000Z</td>\n      <td>pnp oic pltgen danao jr confirmed two members ...</td>\n      <td>terrorism</td>\n    </tr>\n    <tr>\n      <th>1</th>\n      <td>2022-07-13T12:10:52.000Z</td>\n      <td>antiillegal drug operation also led seizure 25...</td>\n      <td>drug</td>\n    </tr>\n    <tr>\n      <th>2</th>\n      <td>2022-07-13T11:20:38.000Z</td>\n      <td>regional level wanted person illegal drugs nab...</td>\n      <td>drug</td>\n    </tr>\n    <tr>\n      <th>3</th>\n      <td>2022-07-12T13:18:14.000Z</td>\n      <td>three former members ctg masbate reintegrated ...</td>\n      <td>terrorism</td>\n    </tr>\n    <tr>\n      <th>4</th>\n      <td>2022-07-12T11:53:06.000Z</td>\n      <td>37yearold drug suspect busted antiillegal drug...</td>\n      <td>drug</td>\n    </tr>\n    <tr>\n      <th>...</th>\n      <td>...</td>\n      <td>...</td>\n      <td>...</td>\n    </tr>\n    <tr>\n      <th>335</th>\n      <td>2021-09-07 11:45:49 Malay Peninsula Standard Time</td>\n      <td>2 arrested manufacture selling swab test resul...</td>\n      <td>fraud</td>\n    </tr>\n    <tr>\n      <th>336</th>\n      <td>2021-09-06 15:46:01 Malay Peninsula Standard Time</td>\n      <td>ias findings death minor laguna antidrug opera...</td>\n      <td>NaN</td>\n    </tr>\n    <tr>\n      <th>337</th>\n      <td>2021-09-06 11:49:04 Malay Peninsula Standard Time</td>\n      <td>eleazar hails pnpafp operation intercepted amm...</td>\n      <td>terrorism</td>\n    </tr>\n    <tr>\n      <th>338</th>\n      <td>2021-09-02 15:22:16 Malay Peninsula Standard Time</td>\n      <td>eleazar hails arrest gun syndicate leader coho...</td>\n      <td>terrorism</td>\n    </tr>\n    <tr>\n      <th>339</th>\n      <td>2021-09-01 14:35:45 Malay Peninsula Standard Time</td>\n      <td>eleazar policemen charged murder doj bulacan f...</td>\n      <td>murder</td>\n    </tr>\n  </tbody>\n</table>\n<p>340 rows × 3 columns</p>\n</div>"
     },
     "execution_count": 458,
     "metadata": {},
     "output_type": "execute_result"
    }
   ]
  },
  {
   "cell_type": "code",
   "execution_count": 459,
   "outputs": [],
   "source": [
    "json_city = json.load(open(\"Datasets/cities.geojson\", \"r\"))\n",
    "id_map = {}\n",
    "city_map = {}\n",
    "province_map = {}\n",
    "region_map = {}\n",
    "index = 0\n",
    "for feature in json_city[\"features\"]:\n",
    "    #feature[\"id\"] = feature[\"properties\"][\"ID_2\"]\n",
    "    feature[\"id\"] = index\n",
    "    if feature[\"geometry\"] != None:\n",
    "        id_map[feature[\"properties\"][\"NAME_1\"].lower() + \" \" + feature[\"properties\"][\"NAME_2\"].lower()] = feature[\"id\"]\n",
    "        words = feature[\"properties\"][\"NAME_2\"].lower().split()\n",
    "        for w in words:\n",
    "            city_map[w] = feature[\"id\"]\n",
    "        words = feature[\"properties\"][\"NAME_1\"].lower().split()\n",
    "        for w in words:\n",
    "            province_map[w] = feature[\"id\"]\n",
    "        region_map[feature[\"properties\"][\"REGION\"].lower().split(\"(\")[0].strip()] = feature[\"id\"]\n",
    "    index += 1"
   ],
   "metadata": {
    "collapsed": false,
    "pycharm": {
     "name": "#%%\n"
    }
   }
  },
  {
   "cell_type": "code",
   "execution_count": 460,
   "outputs": [
    {
     "data": {
      "text/plain": "                                                 tweet                coords  \\\n0    pnp oic pltgen danao jr confirmed two members ...   124.288208/13.04128   \n3    three former members ctg masbate reintegrated ...   124.040558/11.19639   \n4    37yearold drug suspect busted antiillegal drug...    123.679863/7.61541   \n7    police arrested monday member communist terror...   122.009827/17.57057   \n9    municipallevel wanted person bohol finally arr...     124.50071/9.62657   \n..                                                 ...                   ...   \n334  p34b worth shabu seized 4 bigtime drug traffic...   120.427498/13.74056   \n335  2 arrested manufacture selling swab test resul...  121.241058/14.732831   \n336  ias findings death minor laguna antidrug opera...   121.601479/13.18381   \n337  eleazar hails pnpafp operation intercepted amm...    126.817047/7.34229   \n339  eleazar policemen charged murder doj bulacan f...   121.148407/13.71313   \n\n          type         loc_name                      region_name  \n0    terrorism   danao sorsogon          Bicol Region (Region V)  \n3    terrorism  masbate masbate          Bicol Region (Region V)  \n4         drug             san   Zamboanga Peninsula (Region IX)  \n7    terrorism  cagayan cagayan       Cagayan Valley (Region II)  \n9       wanted            bohol     Central Visayas (Region VII)  \n..         ...              ...                              ...  \n334       drug         zambales       Central Luzon (Region III)  \n335      fraud    manila manila              Metropolitan Manila  \n336        NaN    laguna laguna         CALABARZON (Region IV-A)  \n337  terrorism          caraga          Davao Region (Region XI)  \n339     murder  bulacan bulacan       Central Luzon (Region III)  \n\n[204 rows x 5 columns]",
      "text/html": "<div>\n<style scoped>\n    .dataframe tbody tr th:only-of-type {\n        vertical-align: middle;\n    }\n\n    .dataframe tbody tr th {\n        vertical-align: top;\n    }\n\n    .dataframe thead th {\n        text-align: right;\n    }\n</style>\n<table border=\"1\" class=\"dataframe\">\n  <thead>\n    <tr style=\"text-align: right;\">\n      <th></th>\n      <th>tweet</th>\n      <th>coords</th>\n      <th>type</th>\n      <th>loc_name</th>\n      <th>region_name</th>\n    </tr>\n  </thead>\n  <tbody>\n    <tr>\n      <th>0</th>\n      <td>pnp oic pltgen danao jr confirmed two members ...</td>\n      <td>124.288208/13.04128</td>\n      <td>terrorism</td>\n      <td>danao sorsogon</td>\n      <td>Bicol Region (Region V)</td>\n    </tr>\n    <tr>\n      <th>3</th>\n      <td>three former members ctg masbate reintegrated ...</td>\n      <td>124.040558/11.19639</td>\n      <td>terrorism</td>\n      <td>masbate masbate</td>\n      <td>Bicol Region (Region V)</td>\n    </tr>\n    <tr>\n      <th>4</th>\n      <td>37yearold drug suspect busted antiillegal drug...</td>\n      <td>123.679863/7.61541</td>\n      <td>drug</td>\n      <td>san</td>\n      <td>Zamboanga Peninsula (Region IX)</td>\n    </tr>\n    <tr>\n      <th>7</th>\n      <td>police arrested monday member communist terror...</td>\n      <td>122.009827/17.57057</td>\n      <td>terrorism</td>\n      <td>cagayan cagayan</td>\n      <td>Cagayan Valley (Region II)</td>\n    </tr>\n    <tr>\n      <th>9</th>\n      <td>municipallevel wanted person bohol finally arr...</td>\n      <td>124.50071/9.62657</td>\n      <td>wanted</td>\n      <td>bohol</td>\n      <td>Central Visayas (Region VII)</td>\n    </tr>\n    <tr>\n      <th>...</th>\n      <td>...</td>\n      <td>...</td>\n      <td>...</td>\n      <td>...</td>\n      <td>...</td>\n    </tr>\n    <tr>\n      <th>334</th>\n      <td>p34b worth shabu seized 4 bigtime drug traffic...</td>\n      <td>120.427498/13.74056</td>\n      <td>drug</td>\n      <td>zambales</td>\n      <td>Central Luzon (Region III)</td>\n    </tr>\n    <tr>\n      <th>335</th>\n      <td>2 arrested manufacture selling swab test resul...</td>\n      <td>121.241058/14.732831</td>\n      <td>fraud</td>\n      <td>manila manila</td>\n      <td>Metropolitan Manila</td>\n    </tr>\n    <tr>\n      <th>336</th>\n      <td>ias findings death minor laguna antidrug opera...</td>\n      <td>121.601479/13.18381</td>\n      <td>NaN</td>\n      <td>laguna laguna</td>\n      <td>CALABARZON (Region IV-A)</td>\n    </tr>\n    <tr>\n      <th>337</th>\n      <td>eleazar hails pnpafp operation intercepted amm...</td>\n      <td>126.817047/7.34229</td>\n      <td>terrorism</td>\n      <td>caraga</td>\n      <td>Davao Region (Region XI)</td>\n    </tr>\n    <tr>\n      <th>339</th>\n      <td>eleazar policemen charged murder doj bulacan f...</td>\n      <td>121.148407/13.71313</td>\n      <td>murder</td>\n      <td>bulacan bulacan</td>\n      <td>Central Luzon (Region III)</td>\n    </tr>\n  </tbody>\n</table>\n<p>204 rows × 5 columns</p>\n</div>"
     },
     "execution_count": 460,
     "metadata": {},
     "output_type": "execute_result"
    }
   ],
   "source": [
    "from nltk import ngrams\n",
    "final_df['coords'] = np.NaN\n",
    "no_coords = final_df[['tweet','coords','type']]\n",
    "\n",
    "def locate_tweet(text):\n",
    "    found = False\n",
    "    n_gram = 1\n",
    "    while not found:\n",
    "        # spliting the sentence\n",
    "        words = ngrams(text.split(), n_gram)\n",
    "        result = \"\"\n",
    "        text_tokens = word_tokenize(text)\n",
    "        city = \"\"\n",
    "        province = \"\"\n",
    "        init_loc = \"\"\n",
    "        for w in words:\n",
    "            w = re.sub(r'[^a-zA-Z]', '', str(w))\n",
    "            if city_map.__contains__(w) and city == \"\":\n",
    "                city = w\n",
    "                init_loc = w + \" \" + init_loc\n",
    "            if province_map.__contains__(w) and province == \"\":\n",
    "                province = w\n",
    "                init_loc = init_loc  + w\n",
    "            if city != \"\" and province != \"\":\n",
    "                init_loc.strip()\n",
    "                break;\n",
    "        index_loc = -1\n",
    "        if id_map.__contains__(init_loc):\n",
    "            index_loc = id_map[init_loc]\n",
    "        elif province != \"\":\n",
    "            index_loc = province_map[province]\n",
    "        elif city != \"\":\n",
    "            index_loc = city_map[city]\n",
    "        else:\n",
    "            if n_gram == 3:\n",
    "                return np.NaN\n",
    "            n_gram += 1\n",
    "        if index_loc == -1 and n_gram == 3:\n",
    "            return np.NaN\n",
    "        sz = len(json_city[\"features\"][int(index_loc)][\"geometry\"][\"coordinates\"])\n",
    "        sz2 = json_city[\"features\"][int(index_loc)][\"geometry\"][\"coordinates\"][np.random.randint(sz)]\n",
    "        loc = sz2[np.random.randint(len(sz2))]\n",
    "        region = json_city[\"features\"][int(index_loc)][\"properties\"][\"REGION\"]\n",
    "        location = re.findall('\\\\d+.\\\\d+', str(loc))\n",
    "        if loc is not None:\n",
    "            found = True\n",
    "    return str(float(location[1])+-np.random.randint(2))+\"/\"+str(float(location[0])+0.25)+\":\"+init_loc+\":\"+region\n",
    "\n",
    "no_coords['coords'] = no_coords['tweet'].apply(locate_tweet)\n",
    "\n",
    "regions = json.load(open(\"Datasets/Regions.json\", \"r\"))\n",
    "\n",
    "# Add Names\n",
    "def add_location_name(text):\n",
    "    return text.split(\":\")[1]\n",
    "def add_region(text):\n",
    "    return text.split(\":\")[2]\n",
    "\n",
    "no_coords['loc_name'] = no_coords['coords'].apply(add_location_name)\n",
    "no_coords['region_name'] = no_coords['coords'].apply(add_region)\n",
    "#no_coords['region_id'] = no_coords['region_name'].apply(add_region_id)\n",
    "no_coords = no_coords.loc[no_coords['loc_name'] != \"\"]\n",
    "# Preprocess\n",
    "def preprocess_coords(coords):\n",
    "    numbers = re.findall('\\\\d+', coords)\n",
    "    return numbers[2]+\".\"+numbers[3]+\"/\"+numbers[0]+\".\"+numbers[1]\n",
    "\n",
    "no_coords['coords'] = no_coords['coords'].apply(preprocess_coords)\n",
    "\n",
    "no_coords"
   ],
   "metadata": {
    "collapsed": false,
    "pycharm": {
     "name": "#%%\n"
    }
   }
  },
  {
   "cell_type": "code",
   "execution_count": 461,
   "outputs": [
    {
     "data": {
      "text/plain": "                   coords       type\n0     124.288208/13.04128  terrorism\n1     124.040558/11.19639  terrorism\n2      123.679863/7.61541       drug\n3     122.009827/17.57057  terrorism\n4       124.50071/9.62657     wanted\n..                    ...        ...\n199   120.427498/13.74056       drug\n200  121.241058/14.732831      fraud\n201   121.601479/13.18381        NaN\n202    126.817047/7.34229  terrorism\n203   121.148407/13.71313     murder\n\n[204 rows x 2 columns]",
      "text/html": "<div>\n<style scoped>\n    .dataframe tbody tr th:only-of-type {\n        vertical-align: middle;\n    }\n\n    .dataframe tbody tr th {\n        vertical-align: top;\n    }\n\n    .dataframe thead th {\n        text-align: right;\n    }\n</style>\n<table border=\"1\" class=\"dataframe\">\n  <thead>\n    <tr style=\"text-align: right;\">\n      <th></th>\n      <th>coords</th>\n      <th>type</th>\n    </tr>\n  </thead>\n  <tbody>\n    <tr>\n      <th>0</th>\n      <td>124.288208/13.04128</td>\n      <td>terrorism</td>\n    </tr>\n    <tr>\n      <th>1</th>\n      <td>124.040558/11.19639</td>\n      <td>terrorism</td>\n    </tr>\n    <tr>\n      <th>2</th>\n      <td>123.679863/7.61541</td>\n      <td>drug</td>\n    </tr>\n    <tr>\n      <th>3</th>\n      <td>122.009827/17.57057</td>\n      <td>terrorism</td>\n    </tr>\n    <tr>\n      <th>4</th>\n      <td>124.50071/9.62657</td>\n      <td>wanted</td>\n    </tr>\n    <tr>\n      <th>...</th>\n      <td>...</td>\n      <td>...</td>\n    </tr>\n    <tr>\n      <th>199</th>\n      <td>120.427498/13.74056</td>\n      <td>drug</td>\n    </tr>\n    <tr>\n      <th>200</th>\n      <td>121.241058/14.732831</td>\n      <td>fraud</td>\n    </tr>\n    <tr>\n      <th>201</th>\n      <td>121.601479/13.18381</td>\n      <td>NaN</td>\n    </tr>\n    <tr>\n      <th>202</th>\n      <td>126.817047/7.34229</td>\n      <td>terrorism</td>\n    </tr>\n    <tr>\n      <th>203</th>\n      <td>121.148407/13.71313</td>\n      <td>murder</td>\n    </tr>\n  </tbody>\n</table>\n<p>204 rows × 2 columns</p>\n</div>"
     },
     "execution_count": 461,
     "metadata": {},
     "output_type": "execute_result"
    }
   ],
   "source": [
    "no_coords.reset_index(inplace = True)\n",
    "specific_df = no_coords.loc[no_coords['type'] != \"\"].reset_index()[['coords','type']]\n",
    "specific_df"
   ],
   "metadata": {
    "collapsed": false,
    "pycharm": {
     "name": "#%%\n"
    }
   }
  },
  {
   "cell_type": "code",
   "execution_count": 462,
   "outputs": [],
   "source": [
    "# Heat map test\n",
    "import folium\n",
    "from folium.plugins import HeatMap\n",
    "\n",
    "heat_list = []\n",
    "for _loc in range(specific_df.shape[0]):\n",
    "#for _loc in range(10):\n",
    "    temp = specific_df.coords[_loc].split(\"/\")\n",
    "    heat_list.append([float(temp[1]), float(temp[0]), 1])\n",
    "#heat_list = [[11.33877, 124.552177, 0.8]]\n",
    "\n",
    "mapObj = folium.Map([12, 122], zoom_start=6)\n",
    "gradient={'0.0':'Navy', '0.25':'Blue','0.5':'Green', '0.75':'Yellow','1': 'Red'}\n",
    "#HeatMap(data=heat_list, gradient=gradient, radius=25, blur = 10, min_opacity = 0.25, max_val = 0.0005).add_to(mapObj)\n",
    "HeatMap(heat_list,radius=25, max_zoom=13).add_to(mapObj)\n",
    "mapObj.save(\"output.html\")"
   ],
   "metadata": {
    "collapsed": false,
    "pycharm": {
     "name": "#%%\n"
    }
   }
  },
  {
   "cell_type": "code",
   "execution_count": 463,
   "outputs": [
    {
     "data": {
      "text/plain": "     index                                              tweet  \\\n0        0  pnp oic pltgen danao jr confirmed two members ...   \n1        3  three former members ctg masbate reintegrated ...   \n2        4  37yearold drug suspect busted antiillegal drug...   \n3        7  police arrested monday member communist terror...   \n4        9  municipallevel wanted person bohol finally arr...   \n..     ...                                                ...   \n199    334  p34b worth shabu seized 4 bigtime drug traffic...   \n200    335  2 arrested manufacture selling swab test resul...   \n201    336  ias findings death minor laguna antidrug opera...   \n202    337  eleazar hails pnpafp operation intercepted amm...   \n203    339  eleazar policemen charged murder doj bulacan f...   \n\n                   coords       type         loc_name  \\\n0     124.288208/13.04128  terrorism   danao sorsogon   \n1     124.040558/11.19639  terrorism  masbate masbate   \n2      123.679863/7.61541       drug             san    \n3     122.009827/17.57057  terrorism  cagayan cagayan   \n4       124.50071/9.62657     wanted            bohol   \n..                    ...        ...              ...   \n199   120.427498/13.74056       drug         zambales   \n200  121.241058/14.732831      fraud    manila manila   \n201   121.601479/13.18381        NaN    laguna laguna   \n202    126.817047/7.34229  terrorism          caraga    \n203   121.148407/13.71313     murder  bulacan bulacan   \n\n                         region_name  dummy  \n0            Bicol Region (Region V)     72  \n1            Bicol Region (Region V)     59  \n2    Zamboanga Peninsula (Region IX)     79  \n3         Cagayan Valley (Region II)     27  \n4       Central Visayas (Region VII)     75  \n..                               ...    ...  \n199       Central Luzon (Region III)     98  \n200              Metropolitan Manila     80  \n201         CALABARZON (Region IV-A)     57  \n202         Davao Region (Region XI)     52  \n203       Central Luzon (Region III)     54  \n\n[204 rows x 7 columns]",
      "text/html": "<div>\n<style scoped>\n    .dataframe tbody tr th:only-of-type {\n        vertical-align: middle;\n    }\n\n    .dataframe tbody tr th {\n        vertical-align: top;\n    }\n\n    .dataframe thead th {\n        text-align: right;\n    }\n</style>\n<table border=\"1\" class=\"dataframe\">\n  <thead>\n    <tr style=\"text-align: right;\">\n      <th></th>\n      <th>index</th>\n      <th>tweet</th>\n      <th>coords</th>\n      <th>type</th>\n      <th>loc_name</th>\n      <th>region_name</th>\n      <th>dummy</th>\n    </tr>\n  </thead>\n  <tbody>\n    <tr>\n      <th>0</th>\n      <td>0</td>\n      <td>pnp oic pltgen danao jr confirmed two members ...</td>\n      <td>124.288208/13.04128</td>\n      <td>terrorism</td>\n      <td>danao sorsogon</td>\n      <td>Bicol Region (Region V)</td>\n      <td>72</td>\n    </tr>\n    <tr>\n      <th>1</th>\n      <td>3</td>\n      <td>three former members ctg masbate reintegrated ...</td>\n      <td>124.040558/11.19639</td>\n      <td>terrorism</td>\n      <td>masbate masbate</td>\n      <td>Bicol Region (Region V)</td>\n      <td>59</td>\n    </tr>\n    <tr>\n      <th>2</th>\n      <td>4</td>\n      <td>37yearold drug suspect busted antiillegal drug...</td>\n      <td>123.679863/7.61541</td>\n      <td>drug</td>\n      <td>san</td>\n      <td>Zamboanga Peninsula (Region IX)</td>\n      <td>79</td>\n    </tr>\n    <tr>\n      <th>3</th>\n      <td>7</td>\n      <td>police arrested monday member communist terror...</td>\n      <td>122.009827/17.57057</td>\n      <td>terrorism</td>\n      <td>cagayan cagayan</td>\n      <td>Cagayan Valley (Region II)</td>\n      <td>27</td>\n    </tr>\n    <tr>\n      <th>4</th>\n      <td>9</td>\n      <td>municipallevel wanted person bohol finally arr...</td>\n      <td>124.50071/9.62657</td>\n      <td>wanted</td>\n      <td>bohol</td>\n      <td>Central Visayas (Region VII)</td>\n      <td>75</td>\n    </tr>\n    <tr>\n      <th>...</th>\n      <td>...</td>\n      <td>...</td>\n      <td>...</td>\n      <td>...</td>\n      <td>...</td>\n      <td>...</td>\n      <td>...</td>\n    </tr>\n    <tr>\n      <th>199</th>\n      <td>334</td>\n      <td>p34b worth shabu seized 4 bigtime drug traffic...</td>\n      <td>120.427498/13.74056</td>\n      <td>drug</td>\n      <td>zambales</td>\n      <td>Central Luzon (Region III)</td>\n      <td>98</td>\n    </tr>\n    <tr>\n      <th>200</th>\n      <td>335</td>\n      <td>2 arrested manufacture selling swab test resul...</td>\n      <td>121.241058/14.732831</td>\n      <td>fraud</td>\n      <td>manila manila</td>\n      <td>Metropolitan Manila</td>\n      <td>80</td>\n    </tr>\n    <tr>\n      <th>201</th>\n      <td>336</td>\n      <td>ias findings death minor laguna antidrug opera...</td>\n      <td>121.601479/13.18381</td>\n      <td>NaN</td>\n      <td>laguna laguna</td>\n      <td>CALABARZON (Region IV-A)</td>\n      <td>57</td>\n    </tr>\n    <tr>\n      <th>202</th>\n      <td>337</td>\n      <td>eleazar hails pnpafp operation intercepted amm...</td>\n      <td>126.817047/7.34229</td>\n      <td>terrorism</td>\n      <td>caraga</td>\n      <td>Davao Region (Region XI)</td>\n      <td>52</td>\n    </tr>\n    <tr>\n      <th>203</th>\n      <td>339</td>\n      <td>eleazar policemen charged murder doj bulacan f...</td>\n      <td>121.148407/13.71313</td>\n      <td>murder</td>\n      <td>bulacan bulacan</td>\n      <td>Central Luzon (Region III)</td>\n      <td>54</td>\n    </tr>\n  </tbody>\n</table>\n<p>204 rows × 7 columns</p>\n</div>"
     },
     "execution_count": 463,
     "metadata": {},
     "output_type": "execute_result"
    }
   ],
   "source": [
    "def random_test(text):\n",
    "    return np.random.randint(100)\n",
    "no_coords[\"dummy\"] = no_coords[\"type\"].apply(random_test)\n",
    "no_coords"
   ],
   "metadata": {
    "collapsed": false,
    "pycharm": {
     "name": "#%%\n"
    }
   }
  },
  {
   "cell_type": "code",
   "execution_count": 467,
   "outputs": [],
   "source": [
    "import plotly.express as px\n",
    "\n",
    "fig = px.choropleth_mapbox(\n",
    "    no_coords,\n",
    "    locations=\"region_name\",\n",
    "    geojson=regions,\n",
    "    color=\"dummy\",\n",
    "    featureidkey=\"properties.REGION\",\n",
    "    hover_name=\"region_name\",\n",
    "    hover_data=[\"type\"],\n",
    "    mapbox_style=\"carto-positron\",\n",
    "    center={\"lat\": 12, \"lon\": 122},\n",
    "    zoom=5,\n",
    ")\n",
    "fig.write_html(\"file.html\")"
   ],
   "metadata": {
    "collapsed": false,
    "pycharm": {
     "name": "#%%\n"
    }
   }
  },
  {
   "cell_type": "code",
   "execution_count": null,
   "outputs": [],
   "source": [],
   "metadata": {
    "collapsed": false,
    "pycharm": {
     "name": "#%%\n"
    }
   }
  }
 ]
}